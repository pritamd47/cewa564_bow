{
 "cells": [
  {
   "cell_type": "markdown",
   "metadata": {},
   "source": [
    "# Bow river above Banff\n",
    " \n",
    "## Running SUMMA"
   ]
  },
  {
   "cell_type": "markdown",
   "metadata": {},
   "source": [
    "<br>\n",
    "\n",
    "## Notebook setup"
   ]
  },
  {
   "cell_type": "code",
   "execution_count": 3,
   "metadata": {},
   "outputs": [],
   "source": [
    "# modules\n",
    "import os\n",
    "import time\n",
    "import subprocess # needed to run mizuRoute.exe from the notebook\n",
    "import numpy as np\n",
    "import xarray as xr\n",
    "import pysumma as ps\n",
    "import geopandas as gpd\n",
    "import matplotlib.pyplot as plt"
   ]
  },
  {
   "cell_type": "code",
   "execution_count": 4,
   "metadata": {},
   "outputs": [
    {
     "data": {
      "text/plain": [
       "'/Users/pdas47/courses/cewa564/cewa564_bow/'"
      ]
     },
     "execution_count": 4,
     "metadata": {},
     "output_type": "execute_result"
    }
   ],
   "source": [
    "# define the base path so that we won't have to type this over and over\n",
    "path_base = os.getcwd() + '/'\n",
    "path_base"
   ]
  },
  {
   "cell_type": "markdown",
   "metadata": {},
   "source": [
    "<br>\n",
    "\n",
    "## Spatial discretization\n",
    "The four different spatial discretization setups are:\n",
    "- The catchment is treated as a single, lumped entity. In SUMMA terms, it consists of a single Geographical Response Unit (GRU)\n",
    "- The catchment is treated as a single GRU, but subdivided into three Hydrological Response Units (HRUs) that represent different elevation bands\n",
    "- The cachment is divided into 51 GRUs that represent different sub-catchments, based on the river network\n",
    "- The catchment is divided into 51 sub-catchments (GRUs), where the GRUs are further subdivided into HRUs that represent different elevation bands\n",
    "\n"
   ]
  },
  {
   "cell_type": "markdown",
   "metadata": {},
   "source": [
    "<br>\n",
    "\n",
    "## Model setup\n",
    "Now we'll need to setup a pysumma simulation object. You won't need to run the models for this exercise (although you can with the code at the end of this notebook if you wnat to), but the psyumma objects can be useful to access the parameter and attribute values for each model setup."
   ]
  },
  {
   "cell_type": "code",
   "execution_count": 5,
   "metadata": {},
   "outputs": [],
   "source": [
    "# SUMMA.exe location\n",
    "executable = 'summa.exe'"
   ]
  },
  {
   "cell_type": "code",
   "execution_count": 6,
   "metadata": {},
   "outputs": [],
   "source": [
    "def updatePaths(file_manager_path):\n",
    "    \"\"\" This function will OVERWRITE the filemanager with paths of settingsPath, forcingsPath and outputPath that are valid for the current computer. \n",
    "    \"\"\"\n",
    "    fm = ps.FileManager(file_manager_path)\n",
    "    fm['settingsPath'].value = os.path.join(path_base, *fm['settingsPath'].value.split('/')[-4:])\n",
    "    fm['forcingPath'].value = os.path.join(path_base, *fm['forcingPath'].value.split('/')[-5:])\n",
    "    fm['outputPath'].value = os.path.join(path_base, *fm['outputPath'].value.split('/')[-4:])\n",
    "    \n",
    "    fm.write()\n",
    "    return file_manager_path"
   ]
  },
  {
   "cell_type": "code",
   "execution_count": 7,
   "metadata": {},
   "outputs": [],
   "source": [
    "# Define location of .exe and file manager\n",
    "file_manager_lumped           = updatePaths(path_base + 'settings/bow/lumped/fileManager.txt')\n",
    "file_manager_lumped_elev      = updatePaths(path_base + 'settings/bow/lumped_elevationBands/fileManager.txt')\n",
    "file_manager_distributed      = updatePaths(path_base + 'settings/bow/distributed/fileManager.txt')\n",
    "file_manager_distributed_elev = updatePaths(path_base + 'settings/bow/distributed_elevationBands/fileManager.txt')"
   ]
  },
  {
   "cell_type": "code",
   "execution_count": 8,
   "metadata": {},
   "outputs": [],
   "source": [
    "# Open pysumma simulations for both\n",
    "s_lumped           = ps.Simulation(executable, file_manager_lumped)\n",
    "s_lumped_elev      = ps.Simulation(executable, file_manager_lumped_elev)\n",
    "s_distributed      = ps.Simulation(executable, file_manager_distributed)\n",
    "s_distributed_elev = ps.Simulation(executable, file_manager_distributed_elev)"
   ]
  },
  {
   "cell_type": "markdown",
   "metadata": {},
   "source": [
    "## Code to run these models for yourself\n",
    "In case you're curious about model run times for different setups or wish to do some analysis that invovles changing model parametrizations or parameters, we here provide the code needed to run each of the four SUMMA setups. We've also included the code needed to do the routing of the two distributed setups. Note that these model setups are run in series. Parallelization is the focus of a later lecture. Enjoy!"
   ]
  },
  {
   "cell_type": "code",
   "execution_count": 9,
   "metadata": {},
   "outputs": [],
   "source": [
    "# Make the output directory if it doesn't exist\n",
    "if not os.path.exists(s_lumped.manager['outputPath'].value):\n",
    "    os.makedirs(s_lumped.manager['outputPath'].value)\n",
    "    \n",
    "if not os.path.exists(s_lumped_elev.manager['outputPath'].value):\n",
    "    os.makedirs(s_lumped_elev.manager['outputPath'].value)    \n",
    "    \n",
    "if not os.path.exists(s_distributed.manager['outputPath'].value):\n",
    "    os.makedirs(s_distributed.manager['outputPath'].value) \n",
    "    \n",
    "if not os.path.exists(s_distributed_elev.manager['outputPath'].value):\n",
    "    os.makedirs(s_distributed_elev.manager['outputPath'].value) "
   ]
  },
  {
   "cell_type": "markdown",
   "metadata": {},
   "source": [
    "<br>\n",
    "\n",
    "#### Case 1: lumped catchment\n",
    "In the lumped case, the catchment is treated as a single (lumped) entity. In SUMMA terms, this model setup uses a single GRU (Geographic Response Unit). No routing is needed as a result."
   ]
  },
  {
   "cell_type": "code",
   "execution_count": 55,
   "metadata": {},
   "outputs": [
    {
     "name": "stdout",
     "output_type": "stream",
     "text": [
      "Success\n",
      "Model run took 63 sec.\n"
     ]
    }
   ],
   "source": [
    "# Initialize a timer\n",
    "case1_time_start = time.time()\n",
    "\n",
    "# Run the lumped model with default settings\n",
    "s_lumped.run('local', run_suffix='default')\n",
    "print(s_lumped.status)\n",
    "\n",
    "# End the time and show result\n",
    "case1_time_end = time.time()\n",
    "print('Model run took ' + str(round(case1_time_end - case1_time_start)) + ' sec.')"
   ]
  },
  {
   "cell_type": "markdown",
   "metadata": {},
   "source": [
    "<br>\n",
    "\n",
    "#### Case 2: lumped catchment with elevation bands\n",
    "This setup introduces some spatial complexity, by defining elevation zones within the catchment. In SUMMA terms, the single lumped GRU (see case 1) is now sub-divided into three HRUs (Hydrological Response Units). SUMMA internally handles the routing from the highest HRU to the lowest. No external routing is needed."
   ]
  },
  {
   "cell_type": "code",
   "execution_count": 10,
   "metadata": {},
   "outputs": [
    {
     "name": "stdout",
     "output_type": "stream",
     "text": [
      "Success\n",
      "Model run took 117 sec.\n"
     ]
    }
   ],
   "source": [
    "# Initialize a timer\n",
    "case2_time_start = time.time()\n",
    "\n",
    "# Run the model with the default settings\n",
    "s_lumped_elev.run('local', run_suffix='default')\n",
    "print(s_lumped_elev.status)\n",
    "\n",
    "# End the time and show result\n",
    "case2_time_end = time.time()\n",
    "print('Model run took ' + str(round(case2_time_end - case2_time_start)) + ' sec.')"
   ]
  },
  {
   "cell_type": "markdown",
   "metadata": {},
   "source": [
    "<br>\n",
    "\n",
    "#### Case 3: distributed catchment\n",
    "This setup introduces a different way of spatial discretizaiton, namely sub-dividing a larger catchment into multiple sub-catchments. This setup uses the MERIT Hydro basin delineation (Yamazaki et al., 2019) which provides 51 sub-catchments for our modelling domain. In SUMMA terms, this model setup uses 51 GRUs (technically, the setup also includes 51 HRUs that exactly overlap the GRUs - each GRU is \"divided\" into 1 HRU). SUMMA does not provide GRU-to-GRU routing and external routing is needed,which we will not do here (but output for the default case is provided). "
   ]
  },
  {
   "cell_type": "markdown",
   "metadata": {},
   "source": [
    "**SUMMA**"
   ]
  },
  {
   "cell_type": "code",
   "execution_count": null,
   "metadata": {},
   "outputs": [],
   "source": [
    "# Initialize a timer\n",
    "case3_time_summa_start = time.time()\n",
    "\n",
    "# Run the model with the default settings\n",
    "s_distributed.run('local', run_suffix='default')\n",
    "print(s_distributed.status)\n",
    "\n",
    "# End the time and show result\n",
    "case3_time_summa_end = time.time()\n",
    "print('Model run took ' + str(round(case3_time_summa_end - case3_time_summa_start)) + ' sec.')"
   ]
  },
  {
   "cell_type": "markdown",
   "metadata": {},
   "source": [
    "**mizuRoute**\n",
    "\n",
    "Normally you would need to run a second model (mizuRoute) to create streamflow from the 51 HRUs. We will not do that here."
   ]
  },
  {
   "cell_type": "markdown",
   "metadata": {},
   "source": [
    "<br>\n",
    "\n",
    "#### Case 4: distributed catchment with elevation bands\n",
    "This setup introduces even more spatial complexity, by sub-dividing each of the 51 GRUs in up to three elevation zones. As a result each GRU can now consist of up to 3 HRUs. As before (see case 2), SUMMA handles the HRU-to-HRU routing, but external routing is needed to do the GRU-to-GRU routing and gives us simulated streamflow at the outlet."
   ]
  },
  {
   "cell_type": "markdown",
   "metadata": {},
   "source": [
    "**SUMMA**"
   ]
  },
  {
   "cell_type": "code",
   "execution_count": null,
   "metadata": {},
   "outputs": [],
   "source": [
    "# Initialize a timer\n",
    "case4_time_summa_start = time.time()\n",
    "\n",
    "# Run the model with the default settings\n",
    "s_distributed_elev.run('local', run_suffix='default')\n",
    "print(s_distributed_elev.status)\n",
    "\n",
    "\n",
    "# End the time and show result\n",
    "case4_time_summa_end = time.time()\n",
    "print('Model run took ' + str(round(case4_time_summa_end - case4_time_summa_start)) + ' sec.')"
   ]
  },
  {
   "cell_type": "markdown",
   "metadata": {},
   "source": [
    "**mizuRoute**\n",
    "\n",
    "Normally you would need to run a second model (mizuRoute) to create streamflow from the 51 HRUs. We will not do that here."
   ]
  }
 ],
 "metadata": {
  "kernelspec": {
   "display_name": "Python 3",
   "language": "python",
   "name": "python3"
  },
  "language_info": {
   "codemirror_mode": {
    "name": "ipython",
    "version": 3
   },
   "file_extension": ".py",
   "mimetype": "text/x-python",
   "name": "python",
   "nbconvert_exporter": "python",
   "pygments_lexer": "ipython3",
   "version": "3.7.10"
  }
 },
 "nbformat": 4,
 "nbformat_minor": 4
}
